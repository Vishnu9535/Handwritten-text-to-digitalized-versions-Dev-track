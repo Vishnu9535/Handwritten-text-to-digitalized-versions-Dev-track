{
 "cells": [
  {
   "cell_type": "code",
   "execution_count": 1,
   "metadata": {},
   "outputs": [
    {
     "name": "stderr",
     "output_type": "stream",
     "text": [
      "2022-12-04 11:48:36.704730: I tensorflow/core/platform/cpu_feature_guard.cc:193] This TensorFlow binary is optimized with oneAPI Deep Neural Network Library (oneDNN) to use the following CPU instructions in performance-critical operations:  AVX2 FMA\n",
      "To enable them in other operations, rebuild TensorFlow with the appropriate compiler flags.\n",
      "2022-12-04 11:48:36.919194: W tensorflow/compiler/xla/stream_executor/platform/default/dso_loader.cc:64] Could not load dynamic library 'libcudart.so.11.0'; dlerror: libcudart.so.11.0: cannot open shared object file: No such file or directory\n",
      "2022-12-04 11:48:36.919239: I tensorflow/compiler/xla/stream_executor/cuda/cudart_stub.cc:29] Ignore above cudart dlerror if you do not have a GPU set up on your machine.\n",
      "2022-12-04 11:48:38.430630: W tensorflow/compiler/xla/stream_executor/platform/default/dso_loader.cc:64] Could not load dynamic library 'libnvinfer.so.7'; dlerror: libnvinfer.so.7: cannot open shared object file: No such file or directory\n",
      "2022-12-04 11:48:38.430709: W tensorflow/compiler/xla/stream_executor/platform/default/dso_loader.cc:64] Could not load dynamic library 'libnvinfer_plugin.so.7'; dlerror: libnvinfer_plugin.so.7: cannot open shared object file: No such file or directory\n",
      "2022-12-04 11:48:38.430718: W tensorflow/compiler/tf2tensorrt/utils/py_utils.cc:38] TF-TRT Warning: Cannot dlopen some TensorRT libraries. If you would like to use Nvidia GPU with TensorRT, please make sure the missing libraries mentioned above are installed properly.\n"
     ]
    }
   ],
   "source": [
    "import tensorflow as tf\n",
    "from tensorflow import keras\n",
    "from keras.datasets import mnist    \n",
    "import pandas as pd\n",
    "import numpy as np  \n",
    "import csv"
   ]
  },
  {
   "cell_type": "code",
   "execution_count": 2,
   "metadata": {},
   "outputs": [],
   "source": [
    "dataset='/home/vishnu/Downloads/A_ZHandwrittenData.csv' \n"
   ]
  },
  {
   "cell_type": "code",
   "execution_count": 3,
   "metadata": {},
   "outputs": [],
   "source": [
    "\n",
    "# x=pd.read_csv(datapath)         \n",
    "# # print(x)\n",
    "# for row in x:\n",
    "#         row=row.split(\",\")\n",
    "#         #print(row)\n",
    "        \n",
    "data=[]\n",
    "lables=[]\n",
    "for row in open(dataset):\n",
    "        row=row.split(\",\")\n",
    "        label=int(row[0])\n",
    "        image=np.array([int(i) for i in row[1:]],dtype=\"uint8\")\n",
    "#image is set to digits of all the 784 rows,and set as grayscale pixel which consist of numbers from 0 to 255\n",
    "\n",
    "        # print(image.shape)\n",
    "        if(image.shape==(784,)):\n",
    "                image=image.reshape((28,28))#each image reshaped  to 28*28 pixels \n",
    "                        # print(image)\n",
    "                data.append(image)\n",
    "        lables.append(label)\n",
    "        # print(len(data))\n",
    "# print(data[0])\n",
    "data=np.array(data,dtype=\"float32\")\n",
    "# print(data.shape)\n",
    "        # if(lables[0]==lables[1]):\n",
    "        #         print('true')\n",
    "lables=np.array(lables,dtype=\"int\")\n",
    "# print(lables.shape)\n",
    "#at the end converted into np array"
   ]
  },
  {
   "cell_type": "code",
   "execution_count": 4,
   "metadata": {},
   "outputs": [
    {
     "name": "stdout",
     "output_type": "stream",
     "text": [
      "(60000,)\n",
      "(70000, 28, 28)\n",
      "(56242,)\n"
     ]
    }
   ],
   "source": [
    "((trainData, trainLabels), (testData, testLabels)) = mnist.load_data()\n",
    "# print(trainData.shape)\n",
    "print(trainLabels.shape)\n",
    "data = np.vstack([trainData, testData])#it combines rows of the data \n",
    "print(data.shape)\n",
    "labels = np.hstack([trainLabels, testLabels])#it combines columns of the data \n",
    "print(lables.shape)\n"
   ]
  },
  {
   "cell_type": "code",
   "execution_count": 5,
   "metadata": {},
   "outputs": [],
   "source": [
    "from models import resnet\n",
    "from keras.preprocessing.image import ImageDataGenerator\n",
    "from keras.optimizers import SGD\n",
    "from sklearn.preprocessing import LabelBinarizer\n",
    "from sklearn.model_selection import train_test_split\n",
    "from sklearn.metrics import classification_report\n",
    "from imutils import build_montages\n",
    "import matplotlib.pyplot as plt\n",
    "import numpy as np\n",
    "import argparse\n",
    "import cv2\n"
   ]
  },
  {
   "cell_type": "code",
   "execution_count": 19,
   "metadata": {},
   "outputs": [
    {
     "name": "stderr",
     "output_type": "stream",
     "text": [
      "usage: ipykernel_launcher.py [-h] -a AZ -m MODEL [-p PLOT]\n",
      "ipykernel_launcher.py: error: the following arguments are required: -a/--az, -m/--model\n"
     ]
    },
    {
     "ename": "SystemExit",
     "evalue": "2",
     "output_type": "error",
     "traceback": [
      "An exception has occurred, use %tb to see the full traceback.\n",
      "\u001b[0;31mSystemExit\u001b[0m\u001b[0;31m:\u001b[0m 2\n"
     ]
    }
   ],
   "source": [
    "import argparse\n",
    "ap = argparse.ArgumentParser()\n",
    "# args={\"az\":\"/home/vishnu/Downloads/A_ZHandwrittenData.csv\",\"model\":\"/home/vishnu/Desktop/Handwritten-text-to-digitalized-versions-Dev-track/\",\"plot\":\"/home/vishnu/Desktop/Handwritten-text-to-digitalized-versions-Dev-track/\"}\n",
    "ap.add_argument(\"-a\", \"--az\",default=\"/home/vishnu/Downloads/A_ZHandwrittenData.csv\" ,required=True,\n",
    "\thelp=\"path to A-Z dataset\")\n",
    "ap.add_argument(\"-m\", \"--model\",default=\"/home/vishnu/Desktop/Handwritten-text-to-digitalized-versions-Dev-track/\", type=str, required=True,\n",
    "\thelp=\"path to output trained handwriting recognition model\")\n",
    "ap.add_argument(\"-p\", \"--plot\", type=str, default=\"plot.png\",\n",
    "\thelp=\"path to output training history file\")\n",
    "args = vars(ap.parse_args())"
   ]
  }
 ],
 "metadata": {
  "kernelspec": {
   "display_name": "Python 3.10.6 64-bit",
   "language": "python",
   "name": "python3"
  },
  "language_info": {
   "codemirror_mode": {
    "name": "ipython",
    "version": 3
   },
   "file_extension": ".py",
   "mimetype": "text/x-python",
   "name": "python",
   "nbconvert_exporter": "python",
   "pygments_lexer": "ipython3",
   "version": "3.10.6 (main, Nov 14 2022, 16:10:14) [GCC 11.3.0]"
  },
  "orig_nbformat": 4,
  "vscode": {
   "interpreter": {
    "hash": "e7370f93d1d0cde622a1f8e1c04877d8463912d04d973331ad4851f04de6915a"
   }
  }
 },
 "nbformat": 4,
 "nbformat_minor": 2
}
